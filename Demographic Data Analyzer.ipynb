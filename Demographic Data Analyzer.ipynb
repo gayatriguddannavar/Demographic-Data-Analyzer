{
 "cells": [
  {
   "cell_type": "code",
   "execution_count": 3,
   "id": "6e9dd003-bc97-4b12-8f89-0c5916300eb0",
   "metadata": {},
   "outputs": [
    {
     "data": {
      "text/html": [
       "<div>\n",
       "<style scoped>\n",
       "    .dataframe tbody tr th:only-of-type {\n",
       "        vertical-align: middle;\n",
       "    }\n",
       "\n",
       "    .dataframe tbody tr th {\n",
       "        vertical-align: top;\n",
       "    }\n",
       "\n",
       "    .dataframe thead th {\n",
       "        text-align: right;\n",
       "    }\n",
       "</style>\n",
       "<table border=\"1\" class=\"dataframe\">\n",
       "  <thead>\n",
       "    <tr style=\"text-align: right;\">\n",
       "      <th></th>\n",
       "      <th>age</th>\n",
       "      <th>workclass</th>\n",
       "      <th>fnlwgt</th>\n",
       "      <th>education</th>\n",
       "      <th>education-num</th>\n",
       "      <th>marital-status</th>\n",
       "      <th>occupation</th>\n",
       "      <th>relationship</th>\n",
       "      <th>race</th>\n",
       "      <th>sex</th>\n",
       "      <th>capital-gain</th>\n",
       "      <th>capital-loss</th>\n",
       "      <th>hours-per-week</th>\n",
       "      <th>native-country</th>\n",
       "      <th>salary</th>\n",
       "    </tr>\n",
       "  </thead>\n",
       "  <tbody>\n",
       "    <tr>\n",
       "      <th>0</th>\n",
       "      <td>39</td>\n",
       "      <td>State-gov</td>\n",
       "      <td>77516</td>\n",
       "      <td>Bachelors</td>\n",
       "      <td>13</td>\n",
       "      <td>Never-married</td>\n",
       "      <td>Adm-clerical</td>\n",
       "      <td>Not-in-family</td>\n",
       "      <td>White</td>\n",
       "      <td>Male</td>\n",
       "      <td>2174</td>\n",
       "      <td>0</td>\n",
       "      <td>40</td>\n",
       "      <td>United-States</td>\n",
       "      <td>&lt;=50K</td>\n",
       "    </tr>\n",
       "    <tr>\n",
       "      <th>1</th>\n",
       "      <td>50</td>\n",
       "      <td>Self-emp-not-inc</td>\n",
       "      <td>83311</td>\n",
       "      <td>Bachelors</td>\n",
       "      <td>13</td>\n",
       "      <td>Married-civ-spouse</td>\n",
       "      <td>Exec-managerial</td>\n",
       "      <td>Husband</td>\n",
       "      <td>White</td>\n",
       "      <td>Male</td>\n",
       "      <td>0</td>\n",
       "      <td>0</td>\n",
       "      <td>13</td>\n",
       "      <td>United-States</td>\n",
       "      <td>&lt;=50K</td>\n",
       "    </tr>\n",
       "    <tr>\n",
       "      <th>2</th>\n",
       "      <td>38</td>\n",
       "      <td>Private</td>\n",
       "      <td>215646</td>\n",
       "      <td>HS-grad</td>\n",
       "      <td>9</td>\n",
       "      <td>Divorced</td>\n",
       "      <td>Handlers-cleaners</td>\n",
       "      <td>Not-in-family</td>\n",
       "      <td>White</td>\n",
       "      <td>Male</td>\n",
       "      <td>0</td>\n",
       "      <td>0</td>\n",
       "      <td>40</td>\n",
       "      <td>United-States</td>\n",
       "      <td>&lt;=50K</td>\n",
       "    </tr>\n",
       "    <tr>\n",
       "      <th>3</th>\n",
       "      <td>53</td>\n",
       "      <td>Private</td>\n",
       "      <td>234721</td>\n",
       "      <td>11th</td>\n",
       "      <td>7</td>\n",
       "      <td>Married-civ-spouse</td>\n",
       "      <td>Handlers-cleaners</td>\n",
       "      <td>Husband</td>\n",
       "      <td>Black</td>\n",
       "      <td>Male</td>\n",
       "      <td>0</td>\n",
       "      <td>0</td>\n",
       "      <td>40</td>\n",
       "      <td>United-States</td>\n",
       "      <td>&lt;=50K</td>\n",
       "    </tr>\n",
       "    <tr>\n",
       "      <th>4</th>\n",
       "      <td>28</td>\n",
       "      <td>Private</td>\n",
       "      <td>338409</td>\n",
       "      <td>Bachelors</td>\n",
       "      <td>13</td>\n",
       "      <td>Married-civ-spouse</td>\n",
       "      <td>Prof-specialty</td>\n",
       "      <td>Wife</td>\n",
       "      <td>Black</td>\n",
       "      <td>Female</td>\n",
       "      <td>0</td>\n",
       "      <td>0</td>\n",
       "      <td>40</td>\n",
       "      <td>Cuba</td>\n",
       "      <td>&lt;=50K</td>\n",
       "    </tr>\n",
       "  </tbody>\n",
       "</table>\n",
       "</div>"
      ],
      "text/plain": [
       "   age         workclass  fnlwgt  education  education-num  \\\n",
       "0   39         State-gov   77516  Bachelors             13   \n",
       "1   50  Self-emp-not-inc   83311  Bachelors             13   \n",
       "2   38           Private  215646    HS-grad              9   \n",
       "3   53           Private  234721       11th              7   \n",
       "4   28           Private  338409  Bachelors             13   \n",
       "\n",
       "       marital-status         occupation   relationship   race     sex  \\\n",
       "0       Never-married       Adm-clerical  Not-in-family  White    Male   \n",
       "1  Married-civ-spouse    Exec-managerial        Husband  White    Male   \n",
       "2            Divorced  Handlers-cleaners  Not-in-family  White    Male   \n",
       "3  Married-civ-spouse  Handlers-cleaners        Husband  Black    Male   \n",
       "4  Married-civ-spouse     Prof-specialty           Wife  Black  Female   \n",
       "\n",
       "   capital-gain  capital-loss  hours-per-week native-country salary  \n",
       "0          2174             0              40  United-States  <=50K  \n",
       "1             0             0              13  United-States  <=50K  \n",
       "2             0             0              40  United-States  <=50K  \n",
       "3             0             0              40  United-States  <=50K  \n",
       "4             0             0              40           Cuba  <=50K  "
      ]
     },
     "execution_count": 3,
     "metadata": {},
     "output_type": "execute_result"
    }
   ],
   "source": [
    "import pandas as pd\n",
    "\n",
    "# Define column names\n",
    "column_names = [\"age\", \"workclass\", \"fnlwgt\", \"education\", \"education-num\", \n",
    "                \"marital-status\", \"occupation\", \"relationship\", \"race\", \"sex\", \n",
    "                \"capital-gain\", \"capital-loss\", \"hours-per-week\", \n",
    "                \"native-country\", \"salary\"]\n",
    "\n",
    "# Load dataset\n",
    "df = pd.read_csv(\"adult.data\", names=column_names, sep=\",\", skipinitialspace=True)\n",
    "\n",
    "# Display first 5 rows\n",
    "df.head()\n"
   ]
  },
  {
   "cell_type": "code",
   "execution_count": 7,
   "id": "f0fb703d-7185-4fda-af21-0b6b82fd921f",
   "metadata": {},
   "outputs": [
    {
     "name": "stdout",
     "output_type": "stream",
     "text": [
      "race\n",
      "White                 27816\n",
      "Black                  3124\n",
      "Asian-Pac-Islander     1039\n",
      "Amer-Indian-Eskimo      311\n",
      "Other                   271\n",
      "Name: count, dtype: int64\n"
     ]
    }
   ],
   "source": [
    "#1)How many people of each race are represented in this dataset? This should be a Pandas series with race names as the index labels. (race column)\n",
    "race_count = df[\"race\"].value_counts()\n",
    "print(race_count)"
   ]
  },
  {
   "cell_type": "code",
   "execution_count": 9,
   "id": "cbcb9856-80fe-430e-9f20-89282193d627",
   "metadata": {},
   "outputs": [
    {
     "name": "stdout",
     "output_type": "stream",
     "text": [
      "39.4\n"
     ]
    }
   ],
   "source": [
    "#2)What is the average age of men?\n",
    "average_age_men = df[df[\"sex\"] == \"Male\"][\"age\"].mean()\n",
    "print(round(average_age_men, 1))"
   ]
  },
  {
   "cell_type": "code",
   "execution_count": 10,
   "id": "51e56311-1f26-407b-b8db-7b1b28a07b90",
   "metadata": {},
   "outputs": [
    {
     "name": "stdout",
     "output_type": "stream",
     "text": [
      "16.4\n"
     ]
    }
   ],
   "source": [
    "#3)What is the percentage of people who have a Bachelor's degree?\n",
    "bachelors_count = df[df[\"education\"] == \"Bachelors\"].shape[0]\n",
    "total_count = df.shape[0]\n",
    "bachelors_percentage = (bachelors_count / total_count) * 100\n",
    "print(round(bachelors_percentage, 1))"
   ]
  },
  {
   "cell_type": "code",
   "execution_count": 13,
   "id": "8269e362-1be3-4fb6-b026-3e4567c2ecfe",
   "metadata": {},
   "outputs": [
    {
     "name": "stdout",
     "output_type": "stream",
     "text": [
      "46.5\n"
     ]
    }
   ],
   "source": [
    "#4)What percentage of people with advanced education (Bachelors, Masters, or Doctorate) make more than 50K?\n",
    "advanced_earning_more_than_50K = (advanced_education[\"salary\"] == \">50K\").mean() * 100\n",
    "print(round(advanced_earning_more_than_50K, 1))"
   ]
  },
  {
   "cell_type": "code",
   "execution_count": 15,
   "id": "e3509c7c-d632-4769-904d-9514e76be599",
   "metadata": {},
   "outputs": [
    {
     "name": "stdout",
     "output_type": "stream",
     "text": [
      "17.4\n"
     ]
    }
   ],
   "source": [
    "#5)What percentage of people without advanced education make more than 50K?\n",
    "non_advanced_earning_more_than_50K = (non_advanced_education[\"salary\"] == \">50K\").mean() * 100\n",
    "print(round(non_advanced_earning_more_than_50K, 1))"
   ]
  },
  {
   "cell_type": "code",
   "execution_count": 17,
   "id": "f4f489ad-0377-4c40-9aa1-644bb293554f",
   "metadata": {},
   "outputs": [
    {
     "name": "stdout",
     "output_type": "stream",
     "text": [
      "1\n"
     ]
    }
   ],
   "source": [
    "#6)What is the minimum number of hours a person works per week?\n",
    "min_work_hours = df[\"hours-per-week\"].min()\n",
    "print(min_work_hours)"
   ]
  },
  {
   "cell_type": "code",
   "execution_count": 19,
   "id": "3cdfcf88-1dff-424b-9778-bba31025074c",
   "metadata": {},
   "outputs": [
    {
     "name": "stdout",
     "output_type": "stream",
     "text": [
      "10.0\n"
     ]
    }
   ],
   "source": [
    "#7)What percentage of the people who work the minimum number of hours per week have a salary of more than 50K?\n",
    "min_workers_earning_more_than_50K = (min_workers[\"salary\"] == \">50K\").mean() * 100\n",
    "print(round(min_workers_earning_more_than_50K, 1))\n"
   ]
  },
  {
   "cell_type": "code",
   "execution_count": 20,
   "id": "4ea6ddd0-85f6-47eb-ac83-2f5df7d28b12",
   "metadata": {},
   "outputs": [
    {
     "name": "stdout",
     "output_type": "stream",
     "text": [
      "Iran 41.9\n"
     ]
    }
   ],
   "source": [
    "#8)What country has the highest percentage of people that earn >50K and what is that percentage?\n",
    "# Calculate the percentage for each country\n",
    "high_earners_by_country = df[df[\"salary\"] == \">50K\"][\"native-country\"].value_counts()\n",
    "total_people_by_country = df[\"native-country\"].value_counts()\n",
    "\n",
    "# Avoid division by zero\n",
    "country_percentage = (high_earners_by_country / total_people_by_country) * 100\n",
    "country_percentage = country_percentage.dropna()\n",
    "\n",
    "# Get the country with the highest percentage\n",
    "highest_country = country_percentage.idxmax()\n",
    "highest_percentage = round(country_percentage.max(), 1)\n",
    "\n",
    "print(highest_country, highest_percentage)\n"
   ]
  },
  {
   "cell_type": "code",
   "execution_count": 22,
   "id": "5413d3cf-6bd9-44b3-810e-fcdd88291e4f",
   "metadata": {},
   "outputs": [
    {
     "name": "stdout",
     "output_type": "stream",
     "text": [
      "Prof-specialty\n"
     ]
    }
   ],
   "source": [
    "#9)Identify the most popular occupation for those who earn >50K in India.\n",
    "most_common_occupation = india_high_earners[\"occupation\"].mode()[0]\n",
    "print(most_common_occupation)\n"
   ]
  }
 ],
 "metadata": {
  "kernelspec": {
   "display_name": "Python 3 (ipykernel)",
   "language": "python",
   "name": "python3"
  },
  "language_info": {
   "codemirror_mode": {
    "name": "ipython",
    "version": 3
   },
   "file_extension": ".py",
   "mimetype": "text/x-python",
   "name": "python",
   "nbconvert_exporter": "python",
   "pygments_lexer": "ipython3",
   "version": "3.12.7"
  }
 },
 "nbformat": 4,
 "nbformat_minor": 5
}
